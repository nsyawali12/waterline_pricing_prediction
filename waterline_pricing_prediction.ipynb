{
  "nbformat": 4,
  "nbformat_minor": 0,
  "metadata": {
    "colab": {
      "name": "waterline_pricing_prediction.ipynb",
      "provenance": [],
      "collapsed_sections": []
    },
    "kernelspec": {
      "name": "python3",
      "display_name": "Python 3"
    }
  },
  "cells": [
    {
      "cell_type": "markdown",
      "metadata": {
        "id": "AnxlyliB__5K"
      },
      "source": [
        "### Import Lib"
      ]
    },
    {
      "cell_type": "code",
      "metadata": {
        "id": "si3yHwSn_tgd"
      },
      "source": [
        "import numpy as np\n",
        "import math"
      ],
      "execution_count": null,
      "outputs": []
    },
    {
      "cell_type": "markdown",
      "metadata": {
        "id": "ygw4LyYCAGPU"
      },
      "source": [
        "Function"
      ]
    },
    {
      "cell_type": "code",
      "metadata": {
        "id": "SqHlilXuAI0b"
      },
      "source": [
        "def pengeboran(max_distance, pengeboran_per_meter, price):\n",
        "  distance_drill = (max_distance * pengeboran_per_meter)\n",
        "  distance_price = (max_distance * price)\n",
        "  res_drill = distance_drill + distance_price\n",
        "  return res_drill\n",
        "\n",
        "def cost_pompa(pump_price):\n",
        "  res_pompa = 1*pump_price\n",
        "  return res_pompa \n",
        "\n",
        "def cost_pipa_tampungan(d_to_rt, price): #pipe price disini pipa kelas rt\n",
        "  res_pipa_tampungan = d_to_rt  * price # jarak ke RT x harga kelas pipa rt\n",
        "  return res_pipa_tampungan\n",
        "\n",
        "def cost_tampungan(total_utama, total_sekunder):\n",
        "  total_tampungan = total_utama + total_sekunder #total semua dari pipa tampungan\n",
        "  return total_tampungan\n",
        "\n",
        "def utamaRW(price):\n",
        "  tamp_rw = 1 * price # 1 x harga tampungan dari kelas semua total KK\n",
        "  return tamp_rw\n",
        "\n",
        "def sekunderRT(price):\n",
        "  tamp_rt = 1 * price # 1 x harga tampungan pipa rt\n",
        "  return tamp_rt\n",
        "\n",
        "def total_cost(t_HPT, t_tampungan, t_drill, t_pump): ## nanti tambahin sama yang lain\n",
        "  cost = t_HPT + t_tampungan + t_drill + t_pump\n",
        "  return cost\n",
        "\n",
        "def pricing_pipe(jum_kk):\n",
        "  if (jum_kk >= 0) and (jum_kk <= 200):\n",
        "    #untuk pipa 0.5 cm\n",
        "    #print(\"pipa 0.5 cm\")\n",
        "    pipe_price = 2000\n",
        "  \n",
        "  elif (jum_kk > 200) and (jum_kk <= 600):\n",
        "    #untuk pipa 1 cm\n",
        "    #print(\" Pipa 1 cm\")\n",
        "    pipe_price = 4000\n",
        "  \n",
        "  elif (jum_kk > 600) and (jum_kk <= 1000):\n",
        "    #untuk pipa 1.5 cm\n",
        "    #print(\"Pipa 1.5 cm\")\n",
        "    pipe_price = 6000\n",
        "  \n",
        "  return pipe_price\n",
        "\n",
        "def pricing_tampung(jum_kk):\n",
        "  if (jum_kk >= 0) and (jum_kk <= 200):\n",
        "    #untuk tampungan 1x1 meter\n",
        "    # print(\"tampungan 1x1 m\")\n",
        "    tamp_price = 500000\n",
        "  \n",
        "  elif (jum_kk > 200) and (jum_kk <= 600):\n",
        "    #untuk tampungan 2x2 meter\n",
        "    # print(\"tampungan 2x2 m\") \n",
        "    tamp_price = 1000000\n",
        "  \n",
        "  elif (jum_kk > 600) and (jum_kk <= 1000):\n",
        "    #untuk tampungan 3x3 meter\n",
        "    # print(\"tampungan 3x3m\")\n",
        "    tamp_price = 1500000\n",
        "  \n",
        "  return tamp_price"
      ],
      "execution_count": null,
      "outputs": []
    },
    {
      "cell_type": "markdown",
      "metadata": {
        "id": "db6DB3tOAVqZ"
      },
      "source": [
        "### Meminta Input dari User"
      ]
    },
    {
      "cell_type": "code",
      "metadata": {
        "id": "jNT35HvlAObz",
        "outputId": "27253543-fb4f-4594-e97e-226874549e9d",
        "colab": {
          "base_uri": "https://localhost:8080/",
          "height": 340
        }
      },
      "source": [
        "### Accepting Several User Input ###\n",
        "\n",
        "print(\"Welcome to Waterline Pricing\")\n",
        "print(\"----------------------------\")\n",
        "print(\"----Input Several Valeus----\")\n",
        "no_rw = input(\"Nomor RW: \")\n",
        "\n",
        "jum_rt = int(input(\"Jumlah RT: \"))\n",
        "\n",
        "#----------- LOOPING RT ----------- #\n",
        "kk_rt = [] ## variabbel jumlah orang per rt\n",
        "range_rt = [] ## list masing masing jarak rt\n",
        "i_rt = [] ## Index RT Ke berapa?\n",
        "\n",
        "## looping keterangan per rt\n",
        "for n_rt in range (jum_rt):\n",
        "  rt_ke = int(input(\"RT KE: \"))\n",
        "  rt_p = int(input(\"Jumlah Kepala Keluarga di RT: \"))\n",
        "  r_rt = int(input(\"Jarak Lingkungan RT: \"))\n",
        "\n",
        "  i_rt.append(rt_ke)\n",
        "  kk_rt.append(rt_p)\n",
        "  range_rt.append(r_rt)\n",
        "\n",
        "\n",
        "###################################\n",
        "\n",
        "total_kk = sum(kk_rt) \n",
        "## !!! Hati hati siapa tau perhitungan bukan dari \n",
        "#jumlah seluruh KK, soalnya kan klasifikasi harganya dari sini\n",
        "#siapa tau beda pipa\n",
        "\n",
        "#kk = int(input(\"Kepala Keluarga: \"))\n",
        "print(\"Jumlah seluruh kepala keluarga: \", total_kk)\n",
        "\n",
        "s_min = int(input(\"Kedalaman Sumur Minimal: \"))\n",
        "s_max = int(input(\"Kedalaman Sumur Maksimal: \"))\n",
        "water_s = input(\"Status Kekurangan Air (Y/N): \")\n",
        "\n",
        "jangkauan = total_kk\n",
        "\n",
        "class_pipe = [] ### List tipe tipe pipa dari jumlah kk rt\n",
        "class_tampungan = [] ### list tipe tipe tampungan dari jumlah kk rt\n",
        "\n",
        "print(\"Pricing list\")"
      ],
      "execution_count": null,
      "outputs": [
        {
          "output_type": "stream",
          "text": [
            "Welcome to Waterline Pricing\n",
            "----------------------------\n",
            "----Input Several Valeus----\n",
            "Nomor RW: 1\n",
            "Jumlah RT: 3\n",
            "RT KE: 1\n",
            "Jumlah Kepala Keluarga di RT: 400\n",
            "Jarak Lingkungan RT: 200\n",
            "RT KE: 2\n",
            "Jumlah Kepala Keluarga di RT: 350\n",
            "Jarak Lingkungan RT: 300\n",
            "RT KE: 3\n",
            "Jumlah Kepala Keluarga di RT: 250\n",
            "Jarak Lingkungan RT: 400\n",
            "Jumlah seluruh kepala keluarga:  1000\n",
            "Kedalaman Sumur Minimal: 20\n",
            "Kedalaman Sumur Maksimal: 30\n",
            "Status Kekurangan Air (Y/N): Y\n",
            "Pricing list\n"
          ],
          "name": "stdout"
        }
      ]
    },
    {
      "cell_type": "markdown",
      "metadata": {
        "id": "0_yAtF_vAnj2"
      },
      "source": [
        "### Klasifikasi Pipa dan Tampungan"
      ]
    },
    {
      "cell_type": "code",
      "metadata": {
        "id": "mDKkcJkRAs13"
      },
      "source": [
        "#----- Classification Pipe -----#\n",
        "for n in kk_rt:\n",
        "  p_pipe = pricing_pipe(n)\n",
        "  class_pipe.append(p_pipe)\n",
        "#################################\n",
        "  \n",
        "#----- Classification Tampungan -----#  \n",
        "sekunder_list = [] ## list sekunder dari RT\n",
        "\n",
        "# Classification Tampungan and Sekunder\n",
        "for t in kk_rt:\n",
        "  p_tamp = pricing_tampung(t)\n",
        "  s_tamp = sekunderRT(p_tamp) ## sekunder tampungan\n",
        "  class_tampungan.append(p_tamp)\n",
        "  sekunder_list.append(s_tamp)\n",
        "#######################################"
      ],
      "execution_count": null,
      "outputs": []
    },
    {
      "cell_type": "markdown",
      "metadata": {
        "id": "pLQkIcPtAyrX"
      },
      "source": [
        "Perhitungan Tampungan"
      ]
    },
    {
      "cell_type": "code",
      "metadata": {
        "id": "YTXc2deuA0JT"
      },
      "source": [
        "### Tampungan UTAMA ###\n",
        "### Tampungan kelas RW \n",
        "### Kalau mau otomatis harganya, berarti pake dari hasil klasifikasi tampungan kepala keluarga\n",
        "t_rw = 1500000 \n",
        "tamp_utama = utamaRW(t_rw) ## Total harga utama\n",
        "t_2nd = sum(sekunder_list) ## Total Semua harga tampungan sekunder\n",
        "tampungan = cost_tampungan(tamp_utama, t_2nd)"
      ],
      "execution_count": null,
      "outputs": []
    },
    {
      "cell_type": "markdown",
      "metadata": {
        "id": "HVWqCt0qA7zx"
      },
      "source": [
        "### Keterangan Butuh gak butuh"
      ]
    },
    {
      "cell_type": "code",
      "metadata": {
        "id": "-yWSCQVGA-5B",
        "outputId": "a2ee173d-289f-4b9c-9ff3-b9e6002472a1",
        "colab": {
          "base_uri": "https://localhost:8080/",
          "height": 170
        }
      },
      "source": [
        "## cuma pengen tau panjang array kelas pipa setelah diklasifikasi\n",
        "print(\"Panjang Array Klasifikasi Pipa: \", len(class_pipe))\n",
        "print(\"Panjang Array Klasifikasi Tampungan: \", len(class_tampungan))\n",
        "print(\"Panjang Array Sekunder: \", len(sekunder_list))\n",
        "\n",
        "### Perhitungan Tampungan\n",
        "idx_s = 1 ## Buat tau index sekundernya\n",
        "for nd in sekunder_list:\n",
        "  print(\"Tampungan Sekunder Ke\", idx_s, \":\" , nd)\n",
        "  idx_s = idx_s+1\n",
        "\n",
        "\n",
        "print(\"Total Harga Tampungan Sekunder: \", t_2nd)\n",
        "print(\"Harga Tampungan Utama: \", tamp_utama)\n",
        "print(\"Harga Tampungan: \", tampungan)"
      ],
      "execution_count": null,
      "outputs": [
        {
          "output_type": "stream",
          "text": [
            "Panjang Array Klasifikasi Pipa:  3\n",
            "Panjang Array Klasifikasi Tampungan:  3\n",
            "Panjang Array Sekunder:  3\n",
            "Tampungan Sekunder Ke 1 : 1000000\n",
            "Tampungan Sekunder Ke 2 : 1000000\n",
            "Tampungan Sekunder Ke 3 : 1000000\n",
            "Total Harga Tampungan Sekunder:  3000000\n",
            "Harga Tampungan Utama:  1500000\n",
            "Harga Tampungan:  4500000\n"
          ],
          "name": "stdout"
        }
      ]
    },
    {
      "cell_type": "markdown",
      "metadata": {
        "id": "r1BFbPUtBIS7"
      },
      "source": [
        "### Harga Pipa Tampungan"
      ]
    },
    {
      "cell_type": "code",
      "metadata": {
        "id": "jT4TMBAyBH_U",
        "outputId": "82e3c99a-7950-43a2-cfc7-33bfa2dfda69",
        "colab": {
          "base_uri": "https://localhost:8080/",
          "height": 85
        }
      },
      "source": [
        "### Perhitungan Harga Pipa Tampungan ###\n",
        "total_HPT = '' ## temporary nanti di masukkin setelah harga per tampungannya ada\n",
        "HPT_list = []\n",
        "\n",
        "idx_hpt = 1\n",
        "for r_rt, c_pipe in zip(range_rt, class_pipe):\n",
        "  hpt = cost_pipa_tampungan(r_rt, c_pipe)\n",
        "  print(\"harga HPT ke \", idx_hpt, \":\", hpt)\n",
        "  HPT_list.append(hpt)\n",
        "  idx_hpt += 1\n",
        "\n",
        "total_HPT = sum(HPT_list)\n",
        "print(\"Total semua HPT: \", total_HPT)\n",
        "\n",
        "#######################################"
      ],
      "execution_count": null,
      "outputs": [
        {
          "output_type": "stream",
          "text": [
            "harga HPT ke  1 : 800000\n",
            "harga HPT ke  2 : 1200000\n",
            "harga HPT ke  3 : 1600000\n",
            "Total semua HPT:  3600000\n"
          ],
          "name": "stdout"
        }
      ]
    },
    {
      "cell_type": "markdown",
      "metadata": {
        "id": "9ytEvdVBBNgh"
      },
      "source": [
        "### Harga Pengeboran"
      ]
    },
    {
      "cell_type": "code",
      "metadata": {
        "id": "XPP_YP9fBMas",
        "outputId": "2deb8b1f-0b9f-40bd-9e30-3913858ff2dc",
        "colab": {
          "base_uri": "https://localhost:8080/",
          "height": 34
        }
      },
      "source": [
        "#--- Pengeboran ---#\n",
        "meter_bor = 100000\n",
        "p_pipe_for_bor = pricing_pipe(total_kk) ## baru diambil dari klasifikasi pipe, bukan dari kelas pipa utama\n",
        "total_drill = pengeboran(s_max, meter_bor, p_pipe_for_bor)\n",
        "print(\"Total Pengeboran: \", total_drill)\n",
        "\n",
        "#------------------#"
      ],
      "execution_count": null,
      "outputs": [
        {
          "output_type": "stream",
          "text": [
            "Total Pengeboran:  3180000\n"
          ],
          "name": "stdout"
        }
      ]
    },
    {
      "cell_type": "markdown",
      "metadata": {
        "id": "P_T9BxUIBVRc"
      },
      "source": [
        "### Harga Pompa"
      ]
    },
    {
      "cell_type": "code",
      "metadata": {
        "id": "GCBpKu7PBgwG",
        "outputId": "480c6c76-1143-4f2a-f7a5-17cc8c96db02",
        "colab": {
          "base_uri": "https://localhost:8080/",
          "height": 34
        }
      },
      "source": [
        "#--- Pompa ---#\n",
        "price_pump = 3000000 ### harga dari klasifikasi\n",
        "pump = cost_pompa(price_pump)\n",
        "total_pump = pump\n",
        "print(\"Harga Pompa: \", total_pump)\n",
        "###############"
      ],
      "execution_count": null,
      "outputs": [
        {
          "output_type": "stream",
          "text": [
            "Harga Pompa:  3000000\n"
          ],
          "name": "stdout"
        }
      ]
    },
    {
      "cell_type": "markdown",
      "metadata": {
        "id": "1YHBl_8VBi1u"
      },
      "source": [
        "### Total Semua Harga atau Cost"
      ]
    },
    {
      "cell_type": "code",
      "metadata": {
        "id": "lGD_O3X1Blbc",
        "outputId": "28da3d99-d959-434e-922c-b9fa9578bafb",
        "colab": {
          "base_uri": "https://localhost:8080/",
          "height": 34
        }
      },
      "source": [
        "#--- Total Cost ---#\n",
        "total_biaya = total_cost(total_HPT, tampungan, total_drill, total_pump)\n",
        "print(\"Total Cost Keseluruhan: \", total_biaya)\n",
        "####################"
      ],
      "execution_count": null,
      "outputs": [
        {
          "output_type": "stream",
          "text": [
            "Total Cost Keseluruhan:  14280000\n"
          ],
          "name": "stdout"
        }
      ]
    }
  ]
}